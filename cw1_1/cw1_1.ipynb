{
  "cells": [
    {
      "attachments": {},
      "cell_type": "markdown",
      "metadata": {},
      "source": [
        "# Marcin Jarczewski, ćw1_1"
      ]
    },
    {
      "cell_type": "code",
      "execution_count": 1,
      "metadata": {},
      "outputs": [],
      "source": [
        "import numpy as np\n",
        "from typing import List, Tuple\n",
        "w = np.array([8, 3, 5, 2]) #waga przedmiotów\n",
        "W = 9 #maksymalna waga plecaka\n",
        "p = np.array([16, 8, 9, 6]) #wartość przedmiotów"
      ]
    },
    {
      "cell_type": "markdown",
      "metadata": {},
      "source": [
        "## Zadanie 1"
      ]
    },
    {
      "cell_type": "code",
      "execution_count": 3,
      "metadata": {},
      "outputs": [],
      "source": [
        "def backpack_bruteforce(p: List[int], w: List[int], W: int) -> None:\n",
        "    results = []\n",
        "\n",
        "    def add_to_backpack(id: int, weight: int, cost: int) -> Tuple[int, int]:\n",
        "        weight += w[id]\n",
        "        cost += p[id]\n",
        "        return weight, cost\n",
        "\n",
        "    def remove_from_backpack(id: int, weight: int, cost: int) -> Tuple[int, int]:\n",
        "        weight -= w[id]\n",
        "        cost -= p[id]\n",
        "        return weight, cost\n",
        "\n",
        "    def lebrute(vec: List[int], weight: int = 0, cost: int = 0) -> None:\n",
        "        if len(vec) == w.size:\n",
        "            results.append((cost, weight, vec.copy()))\n",
        "            return\n",
        "\n",
        "        if len(vec) + 1 <= w.size:\n",
        "            vec.append(0)\n",
        "            lebrute(vec, weight, cost)\n",
        "            vec.pop()\n",
        "\n",
        "            weight, cost = add_to_backpack(len(vec), weight, cost)\n",
        "            if weight <= W:\n",
        "                vec.append(1)\n",
        "                lebrute(vec, weight, cost)\n",
        "                vec.pop()\n",
        "            weight, cost = remove_from_backpack(len(vec), weight, cost)   \n",
        "            \n",
        "        \n",
        "    vec = []\n",
        "    lebrute(vec)\n",
        "    results.sort(key=lambda tup: tup[0], reverse=True)\n",
        "    print(f\"Najlepszy wynik:\\n\\tKoszt: {results[0][0]}, Waga: {results[0][1]}, Przedmioty: {results[0][2]}\")"
      ]
    },
    {
      "cell_type": "markdown",
      "metadata": {},
      "source": [
        "## Zadanie 2\n"
      ]
    },
    {
      "cell_type": "code",
      "execution_count": 2,
      "metadata": {},
      "outputs": [],
      "source": [
        "def backpack_heuristic(p: np.array, w: np.array, W: int):\n",
        "    ratio = [p[i]/w[i] for i in range(w.size)]\n",
        "    \n",
        "    def add_to_backpack(id: int, weight: int, cost: int) -> Tuple[int, int]:\n",
        "        weight += w[id]\n",
        "        cost += p[id]\n",
        "        return weight, cost\n",
        "\n",
        "    def find_best_item(vec: List[int], weight: int) -> int:\n",
        "        best_ratio, best_id = -1, -1\n",
        "        for id, taken in enumerate(vec):\n",
        "            if taken == 1:\n",
        "                continue\n",
        "\n",
        "            if weight + w[id] <= W:\n",
        "                if best_ratio < ratio[id]:\n",
        "                    best_ratio = ratio[id]\n",
        "                    best_id = id\n",
        "                \n",
        "        return best_id\n",
        "\n",
        "    def calc() -> None:\n",
        "        vec2 = [0 for i in range(w.size)]\n",
        "        weight, cost = 0, 0\n",
        "        while True:\n",
        "            best_ratio_id = find_best_item(vec2, weight)\n",
        "            if best_ratio_id == -1:\n",
        "                print(f\"Najlepszy wynik:\\n\\tKoszt: {cost}, Waga: {weight}, Przedmioty: {vec2}\")\n",
        "                break\n",
        "            vec2[best_ratio_id] = 1\n",
        "            weight, cost = add_to_backpack(best_ratio_id, weight, cost)\n",
        "    \n",
        "    calc()"
      ]
    },
    {
      "cell_type": "markdown",
      "metadata": {},
      "source": [
        "## Pytania"
      ]
    },
    {
      "cell_type": "markdown",
      "metadata": {},
      "source": [
        "#### Jakie rozwiązania i jaką wartość funkcji oceny uzyskano? Czy uzyskano takie same rozwiązania?"
      ]
    },
    {
      "cell_type": "markdown",
      "metadata": {},
      "source": [
        "przegląd wyczerpujący:"
      ]
    },
    {
      "cell_type": "code",
      "execution_count": 4,
      "metadata": {},
      "outputs": [
        {
          "name": "stdout",
          "output_type": "stream",
          "text": [
            "Najlepszy wynik:\n",
            "\tKoszt: 17, Waga: 8, Przedmioty: [0, 1, 1, 0]\n"
          ]
        }
      ],
      "source": [
        "backpack_bruteforce(p, w, W)"
      ]
    },
    {
      "cell_type": "markdown",
      "metadata": {},
      "source": [
        "przegląd przy użyciu heurystyki:"
      ]
    },
    {
      "cell_type": "code",
      "execution_count": 5,
      "metadata": {},
      "outputs": [
        {
          "name": "stdout",
          "output_type": "stream",
          "text": [
            "Najlepszy wynik:\n",
            "\tKoszt: 14, Waga: 5, Przedmioty: [0, 1, 0, 1]\n"
          ]
        }
      ],
      "source": [
        "backpack_heuristic(p, w, W)"
      ]
    },
    {
      "cell_type": "markdown",
      "metadata": {},
      "source": [
        "Otrzymane wyniki **różnią się**. Rozwiązanie wykorzystujące heurystykę jest oszacowaniem dolnym wyniku optymalnego podczas gdy przegląd wyczerpujący sprawdza wszystkie możliwości znajdując optymalne rozwiązanie dla zadanego przykładu"
      ]
    },
    {
      "cell_type": "markdown",
      "metadata": {},
      "source": [
        "#### Jak dużą instancję problemu (liczba przedmiotów) da się rozwiązać w około minutę metodą zachłanną (używając heurystyki)?"
      ]
    },
    {
      "cell_type": "code",
      "execution_count": 17,
      "metadata": {},
      "outputs": [
        {
          "name": "stdout",
          "output_type": "stream",
          "text": [
            "26\n"
          ]
        }
      ],
      "source": [
        "#waga przedmiotów\n",
        "w2 = np.array([ 7, 15, 19, 16,  2, 14,  6, 12, 15, 15, 19,  3,  6,  1,  8,  9,  4,\n",
        "        4,  6, 11, 19, 10, 13,  4,  5,  2]) \n",
        "# np.array([ 8, 12,  5, 10,  6,  7, 11, 10,  6, 11, 12,  8, 14, 10,  8,  7,  6,\n",
        "       # 10, 10, 11, 14, 10,  5, 13, 11, 10,  6])\n",
        "\n",
        "#maksymalna waga plecaka\n",
        "W2 = 100 \n",
        "\n",
        "#wartość przedmiotów\n",
        "p2 = np.array([ 8,  2,  3,  5, 19,  2,  3,  7, 18,  8, 16, 15, 14,  5, 15, 19, 13,\n",
        "       18, 12,  1,  5,  5,  8, 10, 18, 17]) \n",
        "# np.array([10,  9, 17, 10, 13, 15, 13, 16, 11, 13, 15, 17,  7, 14, 13, 15, 10,\n",
        "       # 13,  9, 13, 17,  8, 13,  9, 16, 11,  7])\n",
        "\n",
        "print(p2.size)"
      ]
    },
    {
      "cell_type": "code",
      "execution_count": 59,
      "metadata": {},
      "outputs": [
        {
          "name": "stdout",
          "output_type": "stream",
          "text": [
            "Najlepszy wynik:\n",
            "\tKoszt: 217, Waga: 95, Przedmioty: [1, 0, 0, 0, 1, 0, 0, 0, 1, 0, 1, 1, 1, 1, 1, 1, 1, 1, 1, 0, 0, 0, 0, 1, 1, 1]\n"
          ]
        }
      ],
      "source": [
        "backpack_bruteforce(p2, w2, W2)"
      ]
    },
    {
      "cell_type": "code",
      "execution_count": 18,
      "metadata": {},
      "outputs": [
        {
          "name": "stdout",
          "output_type": "stream",
          "text": [
            "Najlepszy wynik:\n",
            "\tKoszt: 217, Waga: 95, Przedmioty: [1, 0, 0, 0, 1, 0, 0, 0, 1, 0, 1, 1, 1, 1, 1, 1, 1, 1, 1, 0, 0, 0, 0, 1, 1, 1]\n"
          ]
        }
      ],
      "source": [
        "backpack_heuristic(p2, w2, W2)"
      ]
    },
    {
      "cell_type": "markdown",
      "metadata": {},
      "source": [
        "Na moim komputerze przeszukiwanie wyczerpujące dla 25 przedmiotów trwa ok. 45 sekund, dla 26 ok. 67 sekund a dla 27 ok. 100 sekund. Zatem w około minutę można rozwiązać problem dla 26 przedmiotów. \n",
        "\n",
        "Natomiast przy użyciu heurystyki, problem dla 30 przedmiotów wykonuje się błyskawicznie, tj poniżej sekundy. Dopiero dla ok. 50 tyś rozwiązanie zajmuje ok. minuty"
      ]
    },
    {
      "cell_type": "markdown",
      "metadata": {},
      "source": [
        "#### Jak bardzo wydłuży obliczenia dodanie jeszcze jednego przedmiotu?"
      ]
    },
    {
      "cell_type": "markdown",
      "metadata": {},
      "source": [
        "Dołożenie przedmiotu sprawi że czas obliczenia wydłuży się ok 1,5 raza. Wynika to ze złożoności algorytmu, który jest zależny od liczby bitów w zapisie binarnym liczby dostępnych przedmiotów. O(2^l) gdzie l to liczba bitów w zapisie binarnym liczby przedmiotów.\n",
        "\n",
        "Dla rozwiązania korzystającego z heurystyki złożność zależy tylko od liczby przedmiotów i maksymalnej pojemności plecaka, zatem możemy uzyskać rozwiązanie w sensownym czasie dla dużo większej liczby przedmiotów."
      ]
    },
    {
      "cell_type": "markdown",
      "metadata": {},
      "source": [
        "#### Jakie wnioski można wyciągnąć na podstawie wyników tego ćwiczenia?"
      ]
    },
    {
      "cell_type": "markdown",
      "metadata": {},
      "source": [
        "Przeszukiwanie wyczerpujące jest optymalnym rozwiązaniem dla problemu gdzie liczba przedmiotów jest niewielka tj. ok 20. Dla większej liczby przedmiotów złożoność algorytmu sprawia że jest on mało użyteczny.\n",
        "\n",
        "Natomiast przeszukiwanie przy użyciu heurystyki znajduje rozwiązanie, które nie zawsze jest optymalne. Znalezione rozwiązanie może być stosowane jako dolne szacowanie optymalnego wyniku. Wynika to z istoty problemu i założenia o nie podzielności przedmiotów \"pakowanych do plecaka\""
      ]
    }
  ],
  "metadata": {
    "interpreter": {
      "hash": "31f2aee4e71d21fbe5cf8b01ff0e069b9275f58929596ceb00d14d90e3e16cd6"
    },
    "kernelspec": {
      "display_name": "Python 3.8.10 64-bit",
      "language": "python",
      "name": "python3"
    },
    "language_info": {
      "codemirror_mode": {
        "name": "ipython",
        "version": 3
      },
      "file_extension": ".py",
      "mimetype": "text/x-python",
      "name": "python",
      "nbconvert_exporter": "python",
      "pygments_lexer": "ipython3",
      "version": "3.-1.-1"
    },
    "orig_nbformat": 4
  },
  "nbformat": 4,
  "nbformat_minor": 2
}
