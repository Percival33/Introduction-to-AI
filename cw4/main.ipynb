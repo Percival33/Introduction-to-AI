{
 "cells": [
  {
   "cell_type": "code",
   "execution_count": 1,
   "metadata": {},
   "outputs": [],
   "source": [
    "import pandas as pd\n",
    "import numpy as np\n",
    "from sklearn.model_selection import train_test_split"
   ]
  },
  {
   "cell_type": "code",
   "execution_count": 3,
   "metadata": {
    "collapsed": false
   },
   "outputs": [
    {
     "data": {
      "text/plain": [
       "(0, 0)"
      ]
     },
     "execution_count": 3,
     "metadata": {},
     "output_type": "execute_result"
    }
   ],
   "source": [
    "pd.DataFrame()"
   ]
  },
  {
   "cell_type": "code",
   "execution_count": 10,
   "metadata": {},
   "outputs": [],
   "source": [
    "bc_names = ['Class', 'age', 'menopause', 'tumor-size', 'inv-nodes', 'node-caps', 'deg-malig', 'breast', 'breast-quad', 'irradiat']\n",
    "al_names = ['Class', 'cap-shape', 'cap-surface', 'cap-color', 'bruises?', 'odor', 'gill-attachment', 'gill-spacing', 'gill-size', \n",
    "            'gill-color', 'stalk-shape', 'stalk-root', 'stalk-surface-above-ring', 'stalk-surface-below-ring', 'stalk-color-above-ring', \n",
    "            'stalk-color-below-ring', 'veil-type', 'veil-color', 'ring-number', 'ring-type', 'spore-print-color', 'population', 'habitat']\n",
    "\n",
    "bc_file = 'data/breast-cancer.data'\n",
    "al_file = 'data/agaricus-lepiota.data'"
   ]
  },
  {
   "cell_type": "code",
   "execution_count": 3,
   "metadata": {},
   "outputs": [
    {
     "ename": "SyntaxError",
     "evalue": "invalid syntax (3191406303.py, line 22)",
     "output_type": "error",
     "traceback": [
      "\u001b[0;36m  Cell \u001b[0;32mIn[3], line 22\u001b[0;36m\u001b[0m\n\u001b[0;31m    return self._get_entropy(X) -\u001b[0m\n\u001b[0m                                 ^\u001b[0m\n\u001b[0;31mSyntaxError\u001b[0m\u001b[0;31m:\u001b[0m invalid syntax\n"
     ]
    }
   ],
   "source": [
    "from Solver import Solver\n",
    "\n",
    "class ID3(Solver):\n",
    "    def __init__(self, dataset: str, columns: list[str], train_test_ratio: float = 3/2):\n",
    "       self.root = None\n",
    "\n",
    "\n",
    "    def get_parameters(self):\n",
    "        hyperparameters = {}\n",
    "\n",
    "        return hyperparameters\n",
    "\n",
    "    def _get_entropy(self, X):\n",
    "        res = 0\n",
    "        for cl in X.value_counts():\n",
    "            cl_freq = cl / X.size\n",
    "            res += cl_freq * np.log(cl_freq)\n",
    "\n",
    "        return -1 * res\n",
    "\n",
    "    def _get_information_gain(self, X, d):\n",
    "        return self._get_entropy(X) -\n",
    "\n",
    "    def _build_tree(self, X, y):\n",
    "\n",
    "        pass\n",
    "\n",
    "    def fit(self, X, y):\n",
    "        self._build_tree(X, y)\n",
    "\n",
    "    def predict(self, X):\n",
    "        '''function return predicted column'''\n",
    "        pass"
   ]
  },
  {
   "cell_type": "code",
   "execution_count": null,
   "metadata": {},
   "outputs": [],
   "source": [
    "def split_data(file_name: str, names = list[str], train_test_ratio: float = 3/2):\n",
    "    '''\n",
    "        a = train_size, b = test_size\n",
    "        a/b = train_test_ratio = x\n",
    "        a = b*x\n",
    "        a / (a+b) = b*x / (b*x + b) = b*x / b*(x+1) = x / (x+1)\n",
    "    '''\n",
    "    df = pd.read_csv(file_name, names=names, index_col=None)\n",
    "    x = train_test_ratio        \n",
    "    X_train, X_test, y_train, y_test = \\\n",
    "        train_test_split(df.drop('Class', axis=1), df['Class'], test_size=x/(x+1), random_state=42)\n",
    "\n",
    "    return X_train, X_test, y_train, y_test\n"
   ]
  },
  {
   "cell_type": "code",
   "execution_count": null,
   "metadata": {
    "collapsed": false
   },
   "outputs": [],
   "source": [
    "def inf_gain(X, label):\n",
    "    def get_entropy(U): # dla każdej klasy\n",
    "        # TODO: change from label to label id?\n",
    "        freq = []\n",
    "        for c in U.unique():\n",
    "            freq.append(U.count(c) / len(label))\n",
    "\n",
    "        return -1 * sum(x * np.log(x) for x in freq)\n",
    "\n",
    "    def inf(d, X): # dla kazdego atrybutu\n",
    "        s = 0\n",
    "        values = X.iloc[:, d].unique()\n",
    "        for j in values:\n",
    "            tmp_df = pd.DataFrame(\n",
    "                X.iloc[:, ]\n",
    "            )\n",
    "            s += X[:, d].count()[j]/len(X) * get_entropy()\n",
    "    # print(X.columns[:1])\n",
    "    # return\n",
    "    # print(X.shape, type(X))\n",
    "    row_ids = [x for x in range(X)]\n",
    "\n",
    "    print(row_ids)\n",
    "    return\n",
    "    for col in range(feature_ids):\n",
    "        # print(col)\n",
    "        res = get_entropy(label) - inf(col)\n",
    "        print(res)"
   ]
  },
  {
   "cell_type": "code",
   "execution_count": 9,
   "metadata": {
    "collapsed": false
   },
   "outputs": [
    {
     "ename": "NameError",
     "evalue": "name 'df' is not defined",
     "output_type": "error",
     "traceback": [
      "\u001b[0;31m---------------------------------------------------------------------------\u001b[0m",
      "\u001b[0;31mNameError\u001b[0m                                 Traceback (most recent call last)",
      "Cell \u001b[0;32mIn[9], line 3\u001b[0m\n\u001b[1;32m      1\u001b[0m \u001b[38;5;66;03m# get_entropy(df.iloc[:, 16]), \\\u001b[39;00m\n\u001b[1;32m      2\u001b[0m \u001b[38;5;66;03m# inf(['p'], df.iloc[:, 16])\u001b[39;00m\n\u001b[0;32m----> 3\u001b[0m df2 \u001b[38;5;241m=\u001b[39m \u001b[43mdf\u001b[49m\u001b[38;5;241m.\u001b[39miloc[:,\u001b[38;5;241m1\u001b[39m:]\n\u001b[1;32m      4\u001b[0m \u001b[38;5;66;03m# df2\u001b[39;00m\n\u001b[1;32m      5\u001b[0m \u001b[38;5;66;03m# print(len(df2))\u001b[39;00m\n\u001b[1;32m      6\u001b[0m \u001b[38;5;66;03m# inf_gain(df2, df.iloc[:,0])\u001b[39;00m\n",
      "\u001b[0;31mNameError\u001b[0m: name 'df' is not defined"
     ]
    }
   ],
   "source": [
    "# get_entropy(df.iloc[:, 16]), \\\n",
    "# inf(['p'], df.iloc[:, 16])\n",
    "df2 = df.iloc[:,1:]\n",
    "# df2\n",
    "# print(len(df2))\n",
    "# inf_gain(df2, df.iloc[:,0])"
   ]
  },
  {
   "cell_type": "code",
   "execution_count": null,
   "metadata": {
    "collapsed": false
   },
   "outputs": [],
   "source": [
    "get_entropy(df.iloc[:, 9])"
   ]
  },
  {
   "cell_type": "code",
   "execution_count": null,
   "metadata": {},
   "outputs": [],
   "source": [
    "class Node:\n",
    "    def __init__(self):\n",
    "        self.value = None\n",
    "        self.attr = None\n",
    "        self.nodes = None"
   ]
  },
  {
   "cell_type": "code",
   "execution_count": 8,
   "metadata": {
    "collapsed": false
   },
   "outputs": [
    {
     "name": "stdout",
     "output_type": "stream",
     "text": [
      "['y' 'x2']\n"
     ]
    }
   ],
   "source": [
    "a = np.array(['y', 'x1', 'x2'], dtype='U')\n",
    "# print(a)\n",
    "# print(np.delete(a, np.s_[1]))"
   ]
  },
  {
   "cell_type": "markdown",
   "metadata": {},
   "source": [
    "X_train, X_test, y_train, y_test = train_test_split(df.drop('Class', axis=1), df['Class'], test_size=3/5, random_state=42)"
   ]
  },
  {
   "cell_type": "markdown",
   "metadata": {},
   "source": []
  },
  {
   "cell_type": "code",
   "execution_count": 13,
   "metadata": {
    "collapsed": false
   },
   "outputs": [
    {
     "data": {
      "text/html": [
       "<div>\n",
       "<style scoped>\n",
       "    .dataframe tbody tr th:only-of-type {\n",
       "        vertical-align: middle;\n",
       "    }\n",
       "\n",
       "    .dataframe tbody tr th {\n",
       "        vertical-align: top;\n",
       "    }\n",
       "\n",
       "    .dataframe thead th {\n",
       "        text-align: right;\n",
       "    }\n",
       "</style>\n",
       "<table border=\"1\" class=\"dataframe\">\n",
       "  <thead>\n",
       "    <tr style=\"text-align: right;\">\n",
       "      <th></th>\n",
       "      <th>y</th>\n",
       "      <th>x1</th>\n",
       "      <th>x2</th>\n",
       "    </tr>\n",
       "  </thead>\n",
       "  <tbody>\n",
       "    <tr>\n",
       "      <th>0</th>\n",
       "      <td>0</td>\n",
       "      <td>A</td>\n",
       "      <td>1</td>\n",
       "    </tr>\n",
       "    <tr>\n",
       "      <th>1</th>\n",
       "      <td>1</td>\n",
       "      <td>B</td>\n",
       "      <td>1</td>\n",
       "    </tr>\n",
       "    <tr>\n",
       "      <th>2</th>\n",
       "      <td>1</td>\n",
       "      <td>B</td>\n",
       "      <td>2</td>\n",
       "    </tr>\n",
       "    <tr>\n",
       "      <th>3</th>\n",
       "      <td>0</td>\n",
       "      <td>B</td>\n",
       "      <td>2</td>\n",
       "    </tr>\n",
       "    <tr>\n",
       "      <th>4</th>\n",
       "      <td>1</td>\n",
       "      <td>B</td>\n",
       "      <td>3</td>\n",
       "    </tr>\n",
       "  </tbody>\n",
       "</table>\n",
       "</div>"
      ],
      "text/plain": [
       "   y x1  x2\n",
       "0  0  A   1\n",
       "1  1  B   1\n",
       "2  1  B   2\n",
       "3  0  B   2\n",
       "4  1  B   3"
      ]
     },
     "execution_count": 13,
     "metadata": {},
     "output_type": "execute_result"
    }
   ],
   "source": [
    "exp_df = pd.DataFrame([\n",
    "    ['0', 'A', 1],\n",
    "    ['1', 'B', 1],\n",
    "    ['1', 'B', 2],\n",
    "    ['0', 'B', 2],\n",
    "    ['1', 'B', 3],\n",
    "], columns=['y', 'x1', 'x2'])\n",
    "exp_df"
   ]
  },
  {
   "cell_type": "code",
   "execution_count": null,
   "metadata": {
    "collapsed": false
   },
   "outputs": [],
   "source": []
  },
  {
   "cell_type": "code",
   "execution_count": 19,
   "metadata": {
    "collapsed": false
   },
   "outputs": [
    {
     "data": {
      "text/plain": [
       "[array(['A', 1], dtype=object),\n",
       " array(['B', 1], dtype=object),\n",
       " array(['B', 2], dtype=object),\n",
       " array(['B', 2], dtype=object),\n",
       " array(['B', 3], dtype=object)]"
      ]
     },
     "execution_count": 19,
     "metadata": {},
     "output_type": "execute_result"
    }
   ],
   "source": [
    "y = exp_df.iloc[:, 0].to_numpy()\n",
    "X = exp_df.iloc[:, 1:].to_numpy()\n",
    "u, c = np.unique(y, return_counts=True)\n",
    "# a, len(u), c, a[np.argmax(c)]\n",
    "# a, b\n",
    "# X, X.shape, X[0], X.shape[0]\n",
    "\n",
    "[X[i] for i in range(X.shape[0])]\n",
    "\n",
    "# rows = [0, 2, 4]\n",
    "# np.delete(X, rows, 0)\n",
    "# for r in X.shape[0]:\n",
    "#     print(r)\n",
    "# X, [r for r in range(X.shape[0]) if X[r, 0] != 'A']\n",
    "# np.delete(X, np.s_[1], 1)\n",
    "# np.unique([x for x in X[:, 0]])\n",
    "# X, np.unique(X, axis=0)\n",
    "# np.reshape(a, (-1,1))\n",
    "# np.concatenate((np.reshape(a, (-1,1)) , b), axis=1)"
   ]
  },
  {
   "cell_type": "code",
   "execution_count": 91,
   "metadata": {
    "collapsed": false
   },
   "outputs": [],
   "source": [
    "class INF_GAIN:\n",
    "    def __init__(self, X, y):\n",
    "        self.X = X # features\n",
    "        self.y = y # label\n",
    "\n",
    "    def entropy(self, U: np.array):\n",
    "        '''\n",
    "        Params:\n",
    "        U:list[str]: y - class\n",
    "        '''\n",
    "        if len(U) == 0:\n",
    "            return 0\n",
    "\n",
    "        U = U[:, 0]\n",
    "        classes = np.unique(U)\n",
    "        freq = [ list(U).count(cl) / len(U) for cl in classes ]\n",
    "\n",
    "        return -1 * sum(cl_freq * np.log(cl_freq) for cl_freq in freq)\n",
    "\n",
    "    def inf(self, d: int, U: list[any]):\n",
    "        s = 0\n",
    "        for val in np.unique([X[d] for X in U]):\n",
    "            # TODO: fix subset\n",
    "            subset = np.array([ X for X in U if X[d] == val ]) # U_j\n",
    "            if len(subset) == 0: continue;\n",
    "\n",
    "            s += len(subset) / len(U) * self.entropy(subset)\n",
    "\n",
    "        return s\n",
    "\n",
    "    def inf_gain(self, d: int, U: np.array):\n",
    "        print(U, U.shape)\n",
    "        # print(np.array(U.iloc[:, 0]))\n",
    "        for d in range(1,U.shape[1]):\n",
    "            print(self.entropy(U), self.inf(d, U))\n",
    "            print(f'{d}\\t{self.entropy(U) - self.inf(d, U)}')"
   ]
  },
  {
   "cell_type": "code",
   "execution_count": 92,
   "metadata": {
    "collapsed": false
   },
   "outputs": [
    {
     "name": "stdout",
     "output_type": "stream",
     "text": [
      "[['p' 'x' 's' ... 'k' 's' 'u']\n",
      " ['e' 'x' 's' ... 'n' 'n' 'g']\n",
      " ['e' 'b' 's' ... 'n' 'n' 'm']\n",
      " ...\n",
      " ['e' 'f' 's' ... 'b' 'c' 'l']\n",
      " ['p' 'k' 'y' ... 'w' 'v' 'l']\n",
      " ['e' 'x' 's' ... 'o' 'c' 'l']] (8124, 23)\n",
      "0.6925010959051001 0.6586777995379722\n",
      "1\t0.033823296367127886\n",
      "0.6925010959051001 0.6726838566664071\n",
      "2\t0.019817239238693052\n",
      "0.6925010959051001 0.6675136370489368\n",
      "3\t0.02498745885616327\n",
      "0.6925010959051001 0.5591537977521386\n",
      "4\t0.13334729815296154\n",
      "0.6925010959051001 0.06445777995546445\n",
      "5\t0.6280433159496357\n",
      "0.6925010959051001 0.6826826472037806\n",
      "6\t0.009818448701319538\n",
      "0.6925010959051001 0.6225742013519672\n",
      "7\t0.06992689455313295\n",
      "0.6925010959051001 0.5329702396776961\n",
      "8\t0.15953085622740404\n",
      "0.6925010959051001 0.4034743011923401\n",
      "9\t0.28902679471276\n",
      "0.6925010959051001 0.687290866191527\n",
      "10\t0.0052102297135731\n",
      "0.6925010959051001 0.5990526304940016\n",
      "11\t0.09344846541109852\n",
      "0.6925010959051001 0.4951443495735666\n",
      "12\t0.1973567463315335\n",
      "0.6925010959051001 0.5040382082630869\n",
      "13\t0.18846288764201324\n",
      "0.6925010959051001 0.5165490296209982\n",
      "14\t0.17595206628410187\n",
      "0.6925010959051001 0.5251645766232353\n",
      "15\t0.16733651928186477\n",
      "0.6925010959051001 0.6925010959051001\n",
      "16\t0.0\n",
      "0.6925010959051001 0.6759923983315359\n",
      "17\t0.016508697573564213\n",
      "0.6925010959051001 0.6658477366342479\n",
      "18\t0.026653359270852217\n",
      "0.6925010959051001 0.47206538234114526\n",
      "19\t0.22043571356395486\n",
      "0.6925010959051001 0.35930183753050043\n",
      "20\t0.3331992583745997\n",
      "0.6925010959051001 0.5525144643974397\n",
      "21\t0.13998663150766044\n",
      "0.6925010959051001 0.5837923250560273\n",
      "22\t0.10870877084907282\n"
     ]
    }
   ],
   "source": [
    "a = INF_GAIN(df.iloc[:,1:], df.iloc[:, 0])\n",
    "a.inf_gain(0, df.to_numpy())"
   ]
  },
  {
   "cell_type": "code",
   "execution_count": 11,
   "metadata": {},
   "outputs": [
    {
     "name": "stdout",
     "output_type": "stream",
     "text": [
      "0:\t['p' 'e']\n",
      "1:\t['x' 'b' 's' 'f' 'k' 'c']\n",
      "2:\t['s' 'y' 'f' 'g']\n",
      "3:\t['n' 'y' 'w' 'g' 'e' 'p' 'b' 'u' 'c' 'r']\n",
      "4:\t['t' 'f']\n",
      "5:\t['p' 'a' 'l' 'n' 'f' 'c' 'y' 's' 'm']\n",
      "6:\t['f' 'a']\n",
      "7:\t['c' 'w']\n",
      "8:\t['n' 'b']\n",
      "9:\t['k' 'n' 'g' 'p' 'w' 'h' 'u' 'e' 'b' 'r' 'y' 'o']\n",
      "10:\t['e' 't']\n",
      "11:\t['e' 'c' 'b' 'r' '?']\n",
      "12:\t['s' 'f' 'k' 'y']\n",
      "13:\t['s' 'f' 'y' 'k']\n",
      "14:\t['w' 'g' 'p' 'n' 'b' 'e' 'o' 'c' 'y']\n",
      "15:\t['w' 'p' 'g' 'b' 'n' 'e' 'y' 'o' 'c']\n",
      "16:\t['p']\n",
      "17:\t['w' 'n' 'o' 'y']\n",
      "18:\t['o' 't' 'n']\n",
      "19:\t['p' 'e' 'l' 'f' 'n']\n",
      "20:\t['k' 'n' 'u' 'h' 'w' 'r' 'o' 'y' 'b']\n",
      "21:\t['s' 'n' 'a' 'v' 'y' 'c']\n",
      "22:\t['u' 'g' 'm' 'd' 'p' 'w' 'l']\n"
     ]
    }
   ],
   "source": [
    "df = pd.read_csv(al_file, names=al_names, index_col=None)\n",
    "df.head()\n",
    "\n",
    "for id, cl in enumerate(df.columns):\n",
    "    print(f'{id}:\\t{df[cl].unique()}')\n"
   ]
  }
 ],
 "metadata": {
  "kernelspec": {
   "display_name": "Python 3",
   "language": "python",
   "name": "python3"
  },
  "language_info": {
   "codemirror_mode": {
    "name": "ipython",
    "version": 3
   },
   "file_extension": ".py",
   "mimetype": "text/x-python",
   "name": "python",
   "nbconvert_exporter": "python",
   "pygments_lexer": "ipython3",
   "version": "3.10.1"
  },
  "vscode": {
   "interpreter": {
    "hash": "37c6402903987cf90072666cffdc47022eab224f364ba23ef85f6b5d30b36d35"
   }
  }
 },
 "nbformat": 4,
 "nbformat_minor": 2
}
